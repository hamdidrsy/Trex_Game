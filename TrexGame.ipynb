{
 "cells": [
  {
   "cell_type": "code",
   "execution_count": 1,
   "id": "379f600b",
   "metadata": {},
   "outputs": [],
   "source": [
    "#keyboard ==> Klavyede bulunan tuşları kullanrak veri toplamamızı sağlar\n",
    "import keyboard\n",
    "#uuid ==> Ekrandan kayıt alabilmemizi sağlar.\n",
    "import uuid\n",
    "import time\n",
    "#Python Imaging Library(PIL) ==> Python resim kütüphanesi\n",
    "from PIL import Image\n",
    "# mss ==> Ekrandaki seçilen pikseller doğrultusunda kırptığımız alanı frame haline getirmemizi sağlar \n",
    "from mss import mss"
   ]
  },
  {
   "cell_type": "code",
   "execution_count": 2,
   "id": "bacea400",
   "metadata": {},
   "outputs": [
    {
     "name": "stdout",
     "output_type": "stream",
     "text": [
      "up,1\n",
      "down,2\n",
      "down,3\n",
      "up,4\n",
      "up,5\n",
      "down,6\n",
      "down,7\n",
      "right,8\n",
      "right,9\n",
      "right,10\n",
      "right,11\n",
      "down,12\n",
      "down,13\n",
      "up,14\n",
      "up,15\n",
      "down,16\n",
      "down,17\n",
      "right,18\n",
      "up,19\n",
      "ESC Click Edildi! Program sonlandı!\n",
      "Veri Toplama işi bitmiştir.\n"
     ]
    }
   ],
   "source": [
    "\n",
    "\"\"\"\n",
    "Bu kodda komut çalıştıktan sonra işlem yapacağımız ekranın görüntüsünü almak \n",
    "https://www.trex-game.skipser.com/\n",
    "\"\"\"\n",
    "# Kırpılacak alanın pikselleri\n",
    "mon = {\"top\":478,\"left\":708,\"width\":262,\"height\":138}\n",
    "sct = mss()\n",
    "i = 0\n",
    "\n",
    "def record_screen(record_id,key):   \n",
    "    global i\n",
    "    \n",
    "    i += 1\n",
    "    print(\"{},{}\".format(key,i))\n",
    "    # Grab nedir? \n",
    "    # Grab, bir python web kazıma çerçevesidir. \n",
    "    # Grab, ağ isteklerini gerçekleştirmek, \n",
    "    # web sitelerini kazımak ve kazınmış içeriği işlemek için bir dizi yararlı yöntem sunar:\n",
    "    # Otomatik tanımlama bilgileri (oturum) desteği.\n",
    "    img = sct.grab(mon)\n",
    "    # Resmimizi byte'larına göre çekiyoruz \n",
    "    im = Image.frombytes(\"RGB\",img.size,img.rgb)\n",
    "    # Çekilen resimleri png formatında kaydediyoruz\n",
    "    # kaydedilecek dosya ismini yazmalıyız img1 gibi\n",
    "    im.save(\"./img1/{}_{}_{}.png\".format(key,record_id,i))\n",
    "\n",
    "# Çıkış yapma\n",
    "is_exit = False\n",
    "# Fonksiyonlarımızdan çıkmak için çıkış fonksiyonu oluşturduk\n",
    "def exit():\n",
    "    global is_exit\n",
    "    is_exit = True\n",
    "    print(\"ESC Click Edildi! Program sonlandı!\")\n",
    "    \n",
    "keyboard.add_hotkey(\"esc\",exit)\n",
    "# uuid => Universally unique identifier\n",
    "record_id = uuid.uuid4()\n",
    "\n",
    "while True:\n",
    "    if is_exit: \n",
    "        print(\"Veri Toplama işi bitmiştir.\")\n",
    "        break\n",
    "    try:\n",
    "        # Try içinde yazılan bir kod hatasında çakılmamak için,\n",
    "        #except kısmına continue diyoruz\n",
    "        if keyboard.is_pressed(keyboard.KEY_UP):\n",
    "            record_screen(record_id,\"up\")\n",
    "            # her gereken tuşlara basıldığında 0.1 saniye bekleme süresi ekliyoruz ki art arda basıldı süsü verilmesin\n",
    "            time.sleep(0.1)\n",
    "        elif keyboard.is_pressed(keyboard.KEY_DOWN):\n",
    "            record_screen(record_id,\"down\")\n",
    "            time.sleep(0.1)\n",
    "        if keyboard.is_pressed(\"right\"):\n",
    "            record_screen(record_id,\"right\")\n",
    "            time.sleep(0.1)\n",
    "    except RuntimeError: continue\n",
    "        \n",
    "    \n",
    "    "
   ]
  },
  {
   "cell_type": "code",
   "execution_count": null,
   "id": "075ec5b7",
   "metadata": {},
   "outputs": [],
   "source": [
    "\n"
   ]
  }
 ],
 "metadata": {
  "kernelspec": {
   "display_name": "Python 3 (ipykernel)",
   "language": "python",
   "name": "python3"
  },
  "language_info": {
   "codemirror_mode": {
    "name": "ipython",
    "version": 3
   },
   "file_extension": ".py",
   "mimetype": "text/x-python",
   "name": "python",
   "nbconvert_exporter": "python",
   "pygments_lexer": "ipython3",
   "version": "3.9.13"
  }
 },
 "nbformat": 4,
 "nbformat_minor": 5
}
