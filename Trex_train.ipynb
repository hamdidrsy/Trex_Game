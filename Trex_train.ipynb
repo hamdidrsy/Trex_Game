{
 "cells": [
  {
   "cell_type": "code",
   "execution_count": 1,
   "id": "dee5bce0",
   "metadata": {},
   "outputs": [],
   "source": [
    "#Resimlere erişmek için kullanılır.\n",
    "import glob\n",
    "import os\n",
    "import numpy as np\n",
    "import seaborn as sns\n",
    "from PIL import Image\n",
    "from keras.models import Sequential\n",
    "from keras.layers import Dense, Dropout, Flatten, Conv2D, MaxPooling2D \n",
    "from sklearn.preprocessing import LabelEncoder, OneHotEncoder\n",
    "from sklearn.model_selection import train_test_split\n",
    "\n",
    "import warnings\n",
    "warnings.filterwarnings(\"ignore\")"
   ]
  },
  {
   "cell_type": "code",
   "execution_count": 2,
   "id": "861bc4c3",
   "metadata": {},
   "outputs": [],
   "source": [
    "# Global'in kısaltması olan glob modülü,\n",
    "# belirli bir dosya modeli veya adıyla eşleşen dosyaları aramak için kullanılan bir işlevdir.\n",
    "# CSV dosyalarını aramak ve dosyalardaki metinleri aramak için kullanılabilir.\n",
    "imgs = glob.glob(\"./img/*.png\")\n"
   ]
  },
  {
   "cell_type": "code",
   "execution_count": 3,
   "id": "0567484f",
   "metadata": {},
   "outputs": [],
   "source": [
    "width = 125\n",
    "height = 50\n",
    "\n",
    "X = []\n",
    "Y = []"
   ]
  },
  {
   "cell_type": "code",
   "execution_count": 10,
   "id": "31185f85",
   "metadata": {},
   "outputs": [],
   "source": [
    "for img in imgs:\n",
    "    # Dosya ismi alınır\n",
    "    filename = os.path.basename(img)\n",
    "    # Basılmış klavye ismi alınır\n",
    "    label = filename.split(\"_\")[0]\n",
    "    # im değerleri 0 ile 1 aralığında değer alınır ki aykırı değerleri önlemek için.\n",
    "    im = np.array(Image.open(img).convert(\"L\").resize((width,height)))\n",
    "    im = im / 255\n",
    "    X.append(im)\n",
    "    Y.append(label)"
   ]
  },
  {
   "cell_type": "code",
   "execution_count": 12,
   "id": "edab8cca",
   "metadata": {},
   "outputs": [
    {
     "name": "stdout",
     "output_type": "stream",
     "text": [
      "[[0.96862745 0.96862745 0.96862745 ... 0.96862745 0.96862745 0.96862745]\n",
      " [0.96862745 0.96862745 0.96862745 ... 0.96862745 0.96862745 0.96862745]\n",
      " [0.96862745 0.96862745 0.96862745 ... 0.96862745 0.96862745 0.96862745]\n",
      " ...\n",
      " [0.89803922 0.90196078 0.90588235 ... 0.90588235 0.90196078 0.90196078]\n",
      " [0.70980392 0.83137255 0.98039216 ... 0.98039216 0.90980392 0.8745098 ]\n",
      " [0.94901961 0.95686275 0.97254902 ... 0.96862745 0.96470588 0.96078431]] down\n"
     ]
    }
   ],
   "source": [
    "print(X[0],Y[0])"
   ]
  },
  {
   "cell_type": "code",
   "execution_count": 16,
   "id": "f9ede455",
   "metadata": {},
   "outputs": [
    {
     "data": {
      "text/plain": [
       "(597, 125, 50, 1)"
      ]
     },
     "execution_count": 16,
     "metadata": {},
     "output_type": "execute_result"
    }
   ],
   "source": [
    "X = np.array(X)\n",
    "# 1 in tek amacı cnn'in kabul etmesi için\n",
    "X = X.reshape(X.shape[0],width,height,1)\n",
    "X.shape"
   ]
  },
  {
   "cell_type": "code",
   "execution_count": 17,
   "id": "a97ce2f9",
   "metadata": {},
   "outputs": [
    {
     "data": {
      "text/plain": [
       "<AxesSubplot:ylabel='count'>"
      ]
     },
     "execution_count": 17,
     "metadata": {},
     "output_type": "execute_result"
    },
    {
     "data": {
      "image/png": "[encoded data removed]",
      "text/plain": [
       "<Figure size 640x480 with 1 Axes>"
      ]
     },
     "metadata": {},
     "output_type": "display_data"
    }
   ],
   "source": [
    "sns.countplot(Y)"
   ]
  },
  {
   "cell_type": "code",
   "execution_count": 18,
   "id": "cebd384b",
   "metadata": {},
   "outputs": [],
   "source": [
    "# verilerimizin bilgisayar için daha anlaşılır hale getirmek için etiket yapmak\n",
    "def onehot_labels(values):\n",
    "    le = LabelEncoder()\n",
    "    integer_encoded = le.fit_transform(values)\n",
    "    ohe = OneHotEncoder(sparse=False)\n",
    "    integer_encoded = integer_encoded.reshape(len(integer_encoded),1)\n",
    "    onehot_encoded = ohe.fit_transform(integer_encoded)\n",
    "    \n",
    "    return onehot_encoded\n",
    "    "
   ]
  },
  {
   "cell_type": "code",
   "execution_count": 19,
   "id": "09fe5996",
   "metadata": {},
   "outputs": [],
   "source": [
    "Y = onehot_labels(Y)\n",
    "train_X, test_X, train_y, test_y = train_test_split(X,Y,test_size=0.25,random_state=2)"
   ]
  },
  {
   "cell_type": "code",
   "execution_count": 9,
   "id": "bde7d3ea",
   "metadata": {},
   "outputs": [],
   "source": [
    "# Verilerimizi eğitilmesi için gerekli derin ağları ayarlıyoruz\n",
    "model = Sequential()\n",
    "\n",
    "model.add(Conv2D(32,kernel_size=(3,3),activation=\"relu\",input_shape = (width,height,1)))\n",
    "model.add(Conv2D(64,kernel_size=(3,3),activation=\"relu\"))\n",
    "model.add(MaxPooling2D(pool_size=(2,2)))\n",
    "model.add(Dropout(0.25))\n",
    "model.add(Flatten())\n",
    "model.add(Dense(128,activation=\"relu\"))\n",
    "model.add(Dropout(0.4))\n",
    "model.add(Dense(3,activation=\"softmax\"))\n",
    "\n",
    "\n",
    "model.compile(loss=\"categorical_crossentropy\",optimizer=\"Adam\",metrics = [\"accuracy\"])"
   ]
  },
  {
   "cell_type": "code",
   "execution_count": 10,
   "id": "aac58e20",
   "metadata": {},
   "outputs": [
    {
     "name": "stdout",
     "output_type": "stream",
     "text": [
      "Epoch 1/35\n",
      "3/3 [==============================] - 1s 254ms/step - loss: 4.8662 - accuracy: 0.3624\n",
      "Epoch 2/35\n",
      "3/3 [==============================] - 1s 243ms/step - loss: 1.9410 - accuracy: 0.4564\n",
      "Epoch 3/35\n",
      "3/3 [==============================] - 1s 223ms/step - loss: 1.1570 - accuracy: 0.5906\n",
      "Epoch 4/35\n",
      "3/3 [==============================] - 1s 230ms/step - loss: 0.7559 - accuracy: 0.5705\n",
      "Epoch 5/35\n",
      "3/3 [==============================] - 1s 258ms/step - loss: 0.6119 - accuracy: 0.7315\n",
      "Epoch 6/35\n",
      "3/3 [==============================] - 1s 233ms/step - loss: 0.5602 - accuracy: 0.7651\n",
      "Epoch 7/35\n",
      "3/3 [==============================] - 1s 284ms/step - loss: 0.4451 - accuracy: 0.8456\n",
      "Epoch 8/35\n",
      "3/3 [==============================] - 1s 264ms/step - loss: 0.3734 - accuracy: 0.8859\n",
      "Epoch 9/35\n",
      "3/3 [==============================] - 1s 279ms/step - loss: 0.3442 - accuracy: 0.8993\n",
      "Epoch 10/35\n",
      "3/3 [==============================] - 1s 310ms/step - loss: 0.2281 - accuracy: 0.9262\n",
      "Epoch 11/35\n",
      "3/3 [==============================] - 1s 293ms/step - loss: 0.2007 - accuracy: 0.9732\n",
      "Epoch 12/35\n",
      "3/3 [==============================] - 1s 291ms/step - loss: 0.1464 - accuracy: 0.9933\n",
      "Epoch 13/35\n",
      "3/3 [==============================] - 1s 307ms/step - loss: 0.1034 - accuracy: 0.9866\n",
      "Epoch 14/35\n",
      "3/3 [==============================] - 1s 293ms/step - loss: 0.1119 - accuracy: 0.9664\n",
      "Epoch 15/35\n",
      "3/3 [==============================] - 1s 262ms/step - loss: 0.0771 - accuracy: 1.0000\n",
      "Epoch 16/35\n",
      "3/3 [==============================] - 1s 261ms/step - loss: 0.0523 - accuracy: 1.0000\n",
      "Epoch 17/35\n",
      "3/3 [==============================] - 1s 281ms/step - loss: 0.0679 - accuracy: 0.9933\n",
      "Epoch 18/35\n",
      "3/3 [==============================] - 1s 251ms/step - loss: 0.0266 - accuracy: 1.0000\n",
      "Epoch 19/35\n",
      "3/3 [==============================] - 1s 246ms/step - loss: 0.0255 - accuracy: 1.0000\n",
      "Epoch 20/35\n",
      "3/3 [==============================] - 1s 252ms/step - loss: 0.0177 - accuracy: 1.0000\n",
      "Epoch 21/35\n",
      "3/3 [==============================] - 1s 294ms/step - loss: 0.0134 - accuracy: 0.9933\n",
      "Epoch 22/35\n",
      "3/3 [==============================] - 1s 301ms/step - loss: 0.0123 - accuracy: 1.0000\n",
      "Epoch 23/35\n",
      "3/3 [==============================] - 1s 314ms/step - loss: 0.0120 - accuracy: 1.0000\n",
      "Epoch 24/35\n",
      "3/3 [==============================] - 1s 344ms/step - loss: 0.0111 - accuracy: 1.0000\n",
      "Epoch 25/35\n",
      "3/3 [==============================] - 1s 323ms/step - loss: 0.0073 - accuracy: 1.0000\n",
      "Epoch 26/35\n",
      "3/3 [==============================] - 1s 298ms/step - loss: 0.0069 - accuracy: 1.0000\n",
      "Epoch 27/35\n",
      "3/3 [==============================] - 1s 275ms/step - loss: 0.0048 - accuracy: 1.0000\n",
      "Epoch 28/35\n",
      "3/3 [==============================] - 1s 258ms/step - loss: 0.0029 - accuracy: 1.0000\n",
      "Epoch 29/35\n",
      "3/3 [==============================] - 1s 260ms/step - loss: 0.0058 - accuracy: 1.0000\n",
      "Epoch 30/35\n",
      "3/3 [==============================] - 1s 240ms/step - loss: 0.0046 - accuracy: 1.0000\n",
      "Epoch 31/35\n",
      "3/3 [==============================] - 1s 257ms/step - loss: 0.0045 - accuracy: 1.0000\n",
      "Epoch 32/35\n",
      "3/3 [==============================] - 1s 264ms/step - loss: 0.0042 - accuracy: 1.0000\n",
      "Epoch 33/35\n",
      "3/3 [==============================] - 1s 254ms/step - loss: 0.0046 - accuracy: 1.0000\n",
      "Epoch 34/35\n",
      "3/3 [==============================] - 1s 240ms/step - loss: 0.0043 - accuracy: 1.0000\n",
      "Epoch 35/35\n",
      "3/3 [==============================] - 1s 248ms/step - loss: 0.0049 - accuracy: 1.0000\n",
      "5/5 [==============================] - 0s 33ms/step - loss: 6.1687e-04 - accuracy: 1.0000\n",
      "Eğitim Doğruluğu: % 100.0\n",
      "2/2 [==============================] - 0s 22ms/step - loss: 0.0065 - accuracy: 1.0000\n",
      "Test Doğruluğu: % 100.0\n"
     ]
    }
   ],
   "source": [
    "# Eğitim aşaması\n",
    "model.fit(train_X,train_y,epochs=35,batch_size=64)\n",
    "\n",
    "score_train = model.evaluate(train_X,train_y)\n",
    "print(\"Eğitim Doğruluğu: %\",score_train[1] * 100)\n",
    "\n",
    "score_test = model.evaluate(test_X,test_y)\n",
    "print(\"Test Doğruluğu: %\",score_test[1] * 100)\n",
    "\n",
    "\n",
    "\n"
   ]
  },
  {
   "cell_type": "code",
   "execution_count": 11,
   "id": "911a2210",
   "metadata": {},
   "outputs": [],
   "source": [
    "# Modellerimizi ilgili yerlerimize kaydediyoruz.\n",
    "open(\"model_new.json\",\"w\").write(model.to_json())\n",
    "model.save_weights(\"trex_weight_new.h5\")"
   ]
  },
  {
   "cell_type": "code",
   "execution_count": null,
   "id": "c55350ce",
   "metadata": {},
   "outputs": [],
   "source": []
  }
 ],
 "metadata": {
  "kernelspec": {
   "display_name": "Python 3 (ipykernel)",
   "language": "python",
   "name": "python3"
  },
  "language_info": {
   "codemirror_mode": {
    "name": "ipython",
    "version": 3
   },
   "file_extension": ".py",
   "mimetype": "text/x-python",
   "name": "python",
   "nbconvert_exporter": "python",
   "pygments_lexer": "ipython3",
   "version": "3.9.13"
  }
 },
 "nbformat": 4,
 "nbformat_minor": 5
}
